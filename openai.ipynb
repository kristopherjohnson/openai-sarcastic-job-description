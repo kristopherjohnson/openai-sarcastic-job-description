{
 "cells": [
  {
   "attachments": {},
   "cell_type": "markdown",
   "metadata": {},
   "source": [
    "# Using OpenAI to Generate a Sarcastic Job Description"
   ]
  },
  {
   "cell_type": "code",
   "execution_count": 30,
   "metadata": {},
   "outputs": [],
   "source": [
    "import os\n",
    "\n",
    "# Run \"pip install -r requirements.txt\" to install the dependencies.\n",
    "import dotenv\n",
    "import openai"
   ]
  },
  {
   "cell_type": "code",
   "execution_count": 31,
   "metadata": {},
   "outputs": [
    {
     "data": {
      "text/plain": [
       "True"
      ]
     },
     "execution_count": 31,
     "metadata": {},
     "output_type": "execute_result"
    }
   ],
   "source": [
    "# The environment variable OPENAI_API_KEY can be read from the file .env in the\n",
    "# current directory.\n",
    "# \n",
    "# If this file does not exist, copy or rename \".env.example\" and then add the\n",
    "# value of your OpenAI API key created at <https://openai.com/api/>.\n",
    "\n",
    "dotenv.load_dotenv()"
   ]
  },
  {
   "cell_type": "code",
   "execution_count": 32,
   "metadata": {},
   "outputs": [],
   "source": [
    "openai.api_key = os.getenv('OPENAI_API_KEY')"
   ]
  },
  {
   "cell_type": "code",
   "execution_count": 44,
   "metadata": {},
   "outputs": [],
   "source": [
    "# Request parameters (see <https://beta.openai.com/docs/api-reference/completions/create>\n",
    "# for descriptions of available parameters)\n",
    "model = 'text-davinci-003'\n",
    "temperature = 1\n",
    "max_tokens = 2000"
   ]
  },
  {
   "cell_type": "code",
   "execution_count": 42,
   "metadata": {},
   "outputs": [],
   "source": [
    "prompt = \"Write a sarcastic job description\""
   ]
  },
  {
   "cell_type": "code",
   "execution_count": 43,
   "metadata": {},
   "outputs": [
    {
     "name": "stdout",
     "output_type": "stream",
     "text": [
      "\n",
      "\n",
      "Do you want to make an impact every day? Do you want to be swamped with endless tasks with no chance of completing them? Are you looking for a position that surrounds you with general unhappiness? If so, then we want you! \n",
      "\n",
      "We are looking for a hard-working, highly motivated individual to join our team as a slavedriver. \n",
      "\n",
      "We are offering an exciting opportunity to work excessively long hours with little pay and zero appreciation. As part of the role, you will be given responsibility that is likely to exceed your ability to complete them in a reasonable amount of time - but don't worry, we won't expect you to ever get it right.\n",
      "\n",
      "At our company, we believe in a good work-life balance - for our bosses. As for you, expect to be available 24/7 (at least in your head) and ready to put in the extra hours without any extra pay.\n",
      "\n",
      "If this sounds like the perfect opportunity for you, then please apply by burning your bridges and saying goodbye to your life ambition. The experience and skills you will pick up here will last you a life time. We look forward to receiving your application!\n"
     ]
    }
   ],
   "source": [
    "response = openai.Completion.create(model=model, prompt=prompt, temperature=temperature, max_tokens=max_tokens)\n",
    "\n",
    "print(response['choices'][0]['text'])"
   ]
  }
 ],
 "metadata": {
  "kernelspec": {
   "display_name": "ai",
   "language": "python",
   "name": "python3"
  },
  "language_info": {
   "codemirror_mode": {
    "name": "ipython",
    "version": 3
   },
   "file_extension": ".py",
   "mimetype": "text/x-python",
   "name": "python",
   "nbconvert_exporter": "python",
   "pygments_lexer": "ipython3",
   "version": "3.9.7"
  },
  "orig_nbformat": 4,
  "vscode": {
   "interpreter": {
    "hash": "57c566fbb8ad837d4fd470ffed8e2cd2ff0e98c073122352f704c42193bd3bc0"
   }
  }
 },
 "nbformat": 4,
 "nbformat_minor": 2
}
